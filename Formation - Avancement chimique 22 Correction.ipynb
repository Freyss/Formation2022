{
 "cells": [
  {
   "cell_type": "markdown",
   "metadata": {},
   "source": [
    "# <div class=\"alert alert-info\" role=\"alert\"> <center> Formation python 2022 : avancement chimique</center> "
   ]
  },
  {
   "cell_type": "markdown",
   "metadata": {},
   "source": [
    "# <div class=\"alert alert-success\" role=\"alert\">partie 1 : intégrer des données au programme"
   ]
  },
  {
   "cell_type": "markdown",
   "metadata": {},
   "source": [
    "<div class=\"alert alert-warning\" role=\"alert\"><center><b>Objectifs :\n",
    "    \n",
    "\n",
    "1- Utiliser input pour rentrer des données  \n",
    "\n",
    "2- Différencier les types de données( entiers, décimaux, chaines de caractères)  \n",
    "\n",
    "\n",
    "3- Créer et utiliser des fonctions pour éviter les opérations répétitives.  "
   ]
  },
  {
   "cell_type": "markdown",
   "metadata": {},
   "source": [
    "# Avancement, réactif limitant et état final d'une réaction chimique\n",
    "Pour une équation du type : a.A+b.B → c.C+ d.D , on va dans un premier temps rentrer les valeurs des coefficients stoechiométriques a,b ,c et d puis des quantité de matières des deux réactifs\n"
   ]
  },
  {
   "cell_type": "markdown",
   "metadata": {},
   "source": [
    "#### <font color=\"green\" > Travail à faire 1 : <font>\n",
    "\n",
    "* Créer la fonction permettant de demander les quantités de matières initiales des 2 réactifs.\n",
    "        \n",
    "* Appeler la fonction pour demander la quantité de matières des deux réactifs (On appellera respectivement les quantités de matières initiales de A et de B, n1 et n2).\n",
    "\n",
    "* Exécuter votre programme"
   ]
  },
  {
   "cell_type": "markdown",
   "metadata": {},
   "source": [
    "## <font color=\"blue\" > Aide 1 : la fonction input <font>\n",
    "    \n",
    "https://capytale2.ac-paris.fr/web/c/8cdc-581500"
   ]
  },
  {
   "cell_type": "markdown",
   "metadata": {},
   "source": [
    "## <font color=\"blue\" > Aide 2 : créer des fonctions <font>\n",
    "https://capytale2.ac-paris.fr/web/c/975b-581509"
   ]
  },
  {
   "cell_type": "code",
   "execution_count": 4,
   "metadata": {},
   "outputs": [
    {
     "name": "stdout",
     "output_type": "stream",
     "text": [
      "La quantité de matière, en mol, de CH₄ est  :1\n",
      "La quantité de matière, en mol, de O₂ est  :2\n"
     ]
    }
   ],
   "source": [
    "SUB = str.maketrans(\"0123456789\", \"₀₁₂₃₄₅₆₇₈₉\") # permet de passer les nombres en indice\n",
    "SUP = str.maketrans(\"0123456789\", \"⁰¹²³⁴⁵⁶⁷⁸⁹\") # permet de passer les nombres en exposant\n",
    "\n",
    "#Affecter aux lettres A, B, C et D le noms des molécules.\n",
    "A=\"CH4\".translate(SUB)\n",
    "B=\"O2\" .translate(SUB)\n",
    "C=\"CO2\".translate(SUB)\n",
    "D=\"H2O\".translate(SUB)\n",
    "\n",
    "# Compléterles coefficients stoechiomètriques\n",
    "a=1 \n",
    "b=2\n",
    "c=1\n",
    "d=2\n",
    "\n",
    "def quantite (M) : # on crée une fonction pour ne pas réécrire des opérations répétitives\n",
    "    n=input('La quantité de matière, en mol, de '+M+' est  :') #affiche la boite de dialogue\n",
    "    n=float(n)                                                 # transforme une chaine de caractères en nombre décimal\n",
    "    return n\n",
    " \n",
    "n1=quantite(A)\n",
    "n2=quantite(B)"
   ]
  },
  {
   "cell_type": "markdown",
   "metadata": {},
   "source": [
    "# <div class=\"alert alert-success\" role=\"alert\">partie 2 : intégrer des conditions au programme."
   ]
  },
  {
   "cell_type": "markdown",
   "metadata": {},
   "source": [
    "<div class=\"alert alert-warning\" role=\"alert\"><center><b>Objectifs :\n",
    "    \n",
    "\n",
    "   Utiliser if, elif et else pour comparer des données  \n"
   ]
  },
  {
   "cell_type": "markdown",
   "metadata": {},
   "source": [
    "Le programme ci-dessous calcule l'avancement maximal et les quantités de matière dans l'état final."
   ]
  },
  {
   "cell_type": "markdown",
   "metadata": {},
   "source": [
    "#### <font color=\"green\" > Travail à faire 2 : <font>\n",
    "\n",
    "* Compléter la ligne 1\n",
    "    \n",
    "* Compléter toutes les lignes finisant par =\n",
    "\n",
    "* Exécuter votre programme"
   ]
  },
  {
   "cell_type": "markdown",
   "metadata": {},
   "source": [
    "## <font color=\"blue\" > Aide 3 : structures conditionelles <font>\n",
    "https://capytale2.ac-paris.fr/web/c/5ae1-517578"
   ]
  },
  {
   "cell_type": "code",
   "execution_count": 5,
   "metadata": {},
   "outputs": [
    {
     "name": "stdout",
     "output_type": "stream",
     "text": [
      "La valeur de xmax est de  1.0 mol\n",
      "La quantité de matière à l'état final de  CH₄ = 0.0 mol\n",
      "La quantité de matière à l'état final de  O₂ = 0 mol\n",
      "La quantité de matière à l'état final de  CO₂ = 1.0 mol\n",
      "La quantité de matière à l'état final de  H₂O = 2.0 mol\n"
     ]
    }
   ],
   "source": [
    "if  n1/a<n2/b : #calcul de xmax\n",
    "    xmax = n1/a\n",
    "    nA_finale = 0\n",
    "    nB_finale = n2 - b*xmax\n",
    "    nC_finale = c*xmax\n",
    "    nD_finale = d*xmax\n",
    "\n",
    "else :\n",
    "    xmax = n2/b\n",
    "    nA_finale =n1-a*xmax\n",
    "    nB_finale =0\n",
    "    nC_finale =c*xmax\n",
    "    nD_finale =d*xmax\n",
    "    \n",
    "#affichage de xmax et de l'état final \n",
    "print (\"La valeur de xmax est de \" , xmax,\"mol\") \n",
    "print (\"La quantité de matière à l'état final de \" ,A,\"=\", nA_finale,\"mol\") \n",
    "print (\"La quantité de matière à l'état final de \" ,B,\"=\", nB_finale,\"mol\")\n",
    "print (\"La quantité de matière à l'état final de \" ,C,\"=\", nC_finale,\"mol\")\n",
    "print (\"La quantité de matière à l'état final de \" ,D,\"=\", nD_finale,\"mol\")\n"
   ]
  },
  {
   "cell_type": "markdown",
   "metadata": {},
   "source": [
    "#### <font color=\"green\" > Travail à faire 3 : <font>\n",
    "\n",
    "* Recopier le programme précédent dans l'epace vide ci-dessous.\n",
    "    \n",
    "* Intégrer une condition supplémentaire permettant d'indiquer : \" on a atteint les proportions stoechiométriques\"\n",
    "\n",
    "* Exécuter votre programme"
   ]
  },
  {
   "cell_type": "code",
   "execution_count": 9,
   "metadata": {},
   "outputs": [
    {
     "name": "stdout",
     "output_type": "stream",
     "text": [
      "on a atteint les proportions stoechiométriques\n",
      "La valeur de xmax est de  1.0 mol\n",
      "La quantité de matière à l'état final de  CH₄ = 0.0 mol\n",
      "La quantité de matière à l'état final de  O₂ = 0 mol\n",
      "La quantité de matière à l'état final de  CO₂ = 1.0 mol\n",
      "La quantité de matière à l'état final de  H₂O = 2.0 mol\n"
     ]
    }
   ],
   "source": [
    "if  n1/a<n2/b : #calcul de xmax\n",
    "    xmax = n1/a\n",
    "    nA_finale = 0\n",
    "    nB_finale = n2 - b*xmax\n",
    "    nC_finale = c*xmax\n",
    "    nD_finale = d*xmax\n",
    "\n",
    "elif  n1/a>n2/b:\n",
    "    xmax = n2/b\n",
    "    nA_finale =n1-a*xmax\n",
    "    nB_finale =0\n",
    "    nC_finale =c*xmax\n",
    "    nD_finale =d*xmax\n",
    "\n",
    "else :\n",
    "    xmax = n2/b\n",
    "    nA_finale =n1-a*xmax\n",
    "    nB_finale =0\n",
    "    nC_finale =c*xmax\n",
    "    nD_finale =d*xmax\n",
    "    print('on a atteint les proportions stoechiométriques')\n",
    "    \n",
    "#affichage de xmax et de l'état final \n",
    "print (\"La valeur de xmax est de \" , xmax,\"mol\") \n",
    "print (\"La quantité de matière à l'état final de \" ,A,\"=\", nA_finale,\"mol\") \n",
    "print (\"La quantité de matière à l'état final de \" ,B,\"=\", nB_finale,\"mol\")\n",
    "print (\"La quantité de matière à l'état final de \" ,C,\"=\", nC_finale,\"mol\")\n",
    "print (\"La quantité de matière à l'état final de \" ,D,\"=\", nD_finale,\"mol\")"
   ]
  },
  {
   "cell_type": "markdown",
   "metadata": {},
   "source": [
    "# <div class=\"alert alert-success\" role=\"alert\">partie 3 : remplir des listes et tracer des courbes"
   ]
  },
  {
   "cell_type": "markdown",
   "metadata": {},
   "source": [
    "<div class=\"alert alert-warning\" role=\"alert\"><center><b>Objectifs : (réinvestissement)\n",
    "    \n",
    "\n",
    "1- Création de boucles for\n",
    "\n",
    "2- Tracer une courbe\n",
    "\n",
    "\n",
    "3- Tracer plusieurs courbes sur le même graphique"
   ]
  },
  {
   "cell_type": "markdown",
   "metadata": {},
   "source": [
    "On va maintenant tracer les courbes. On crée dans un premier temps les listes vides pour toutes les quantités de matières, on fixe un pas pour l'avancement à partir de l'avancement maximal : le pas c'est xmax/100.\n",
    "on remplit alors les listes avec les 100 valeurs découlant du pas choisi."
   ]
  },
  {
   "cell_type": "markdown",
   "metadata": {},
   "source": [
    "#### <font color=\"green\" > Travail à faire 4 : <font>\n",
    "\n",
    "* Remplir les listes vides avec une boucle for en s'appuyant sur la liste x\n",
    "* Exécuter votre programme"
   ]
  },
  {
   "cell_type": "markdown",
   "metadata": {},
   "source": [
    "## <font color=\"blue\" > Aide 4: les boucles <font>\n",
    "https://capytale2.ac-paris.fr/web/sites/default/files/2022/04-14/14-49-16/boucles.html"
   ]
  },
  {
   "cell_type": "code",
   "execution_count": 3,
   "metadata": {},
   "outputs": [],
   "source": [
    "#tracés des courbes\n",
    "x=[]     # on crée les listes vides\n",
    "n11=[]\n",
    "n22=[]\n",
    "n33=[]\n",
    "n44=[]\n",
    "\n",
    "for i in range(0,101,1):   # les valeurs s'étendent de 0 à 100 avec un pas de 1\n",
    "    x.append(i*xmax/100)\n",
    "    n11.append(n1-a*x[i])  #calculs des quantités de matière\n",
    "    n22.append(n2-b*x[i])\n",
    "    n33.append(c*x[i])\n",
    "    n44.append(d*x[i])\n",
    "\n"
   ]
  },
  {
   "cell_type": "markdown",
   "metadata": {},
   "source": [
    "On trace ensuite les courbes avec les quantités de matières en ordonnée et l'avancement en abscisse."
   ]
  },
  {
   "cell_type": "markdown",
   "metadata": {},
   "source": [
    "#### <font color=\"green\" > Travail à faire 5 : <font>\n",
    "\n",
    "* créer le programme permettant de tracer les courbes d'évolution des réactifs et produits.\n",
    "* Exécuter votre programme"
   ]
  },
  {
   "cell_type": "markdown",
   "metadata": {},
   "source": [
    "## <font color=\"blue\" > Aide 5: les graphes <font>\n",
    "https://capytale2.ac-paris.fr/web/sites/default/files/2022/04-14/14-49-22/graphes.html"
   ]
  },
  {
   "cell_type": "code",
   "execution_count": 6,
   "metadata": {},
   "outputs": [
    {
     "data": {
      "application/javascript": [
       "element.append(window._basthonDomNodeBus.pop(0));"
      ]
     },
     "metadata": {},
     "output_type": "display_data"
    }
   ],
   "source": [
    "import matplotlib.pyplot as plt\n",
    "%matplotlib inline\n",
    "plt.clf()\n",
    "plt.plot(x,n11,label=A,linestyle= 'dashed')\n",
    "plt.plot(x,n22,label=B,linestyle= 'dotted')       # plot(abscisse,ordonnée,\"legende de la courbe\")\n",
    "plt.plot(x,n33,label=C)\n",
    "plt.plot(x,n44,label=D) \n",
    "\n",
    "\n",
    "plt.xlabel(\"avancement en mol\")      # xlabel(\"Nom de l'axe de l'axe des absicces\")\n",
    "plt.ylabel(\"quantités de matières en mol\")              # ylabel(\"Nom de l'axe des ordonnées\")\n",
    "plt.legend(loc=\"upper right\")           # Position de la legende de la courbe dans le graphique\n",
    "plt.grid()                          # Affiche la grille du graphique\n",
    "plt.show()                          # Affiche le graphique"
   ]
  },
  {
   "cell_type": "code",
   "execution_count": null,
   "metadata": {},
   "outputs": [],
   "source": []
  }
 ],
 "metadata": {
  "kernelspec": {
   "display_name": "Python 3",
   "language": "python",
   "name": "python3"
  },
  "language_info": {
   "codemirror_mode": {
    "name": "ipython",
    "version": 3
   },
   "file_extension": ".py",
   "mimetype": "text/x-python",
   "name": "python",
   "nbconvert_exporter": "python",
   "pygments_lexer": "ipython3",
   "version": "3.7.1"
  }
 },
 "nbformat": 4,
 "nbformat_minor": 2
}
