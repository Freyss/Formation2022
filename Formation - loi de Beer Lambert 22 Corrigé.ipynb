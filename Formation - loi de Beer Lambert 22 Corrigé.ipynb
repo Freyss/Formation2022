{
 "cells": [
  {
   "cell_type": "markdown",
   "metadata": {},
   "source": [
    "\n",
    "# <div class=\"alert alert-info\" role=\"alert\"> <center> Activité 3 - La loi de BEER LAMBERT corrigé\n"
   ]
  },
  {
   "cell_type": "markdown",
   "metadata": {},
   "source": [
    "<div class=\"alert alert-danger\" role=\"alert\">\n",
    "Ce programme permet de tracer la courbe donnant l’absorbance A en fonction de la concentration puis de\n",
    "vérifier la loi de Beer-Lambert.   "
   ]
  },
  {
   "cell_type": "markdown",
   "metadata": {},
   "source": [
    "<div class=\"alert alert-success\" role=\"alert\">\n",
    "<center><b>1ère partie : Importation des bibliothèques\n",
    "    \n",
    "&nbsp;\n",
    "Exécuter la cellule ci-dessous qui permet d'importer les bibliothèques   "
   ]
  },
  {
   "cell_type": "code",
   "execution_count": null,
   "metadata": {},
   "outputs": [],
   "source": [
    "import matplotlib.pyplot as plt\n",
    "import matplotlib.widgets as widgets\n",
    "%matplotlib inline"
   ]
  },
  {
   "cell_type": "markdown",
   "metadata": {},
   "source": [
    "<div class=\"alert alert-success\" role=\"alert\">\n",
    "<center><b>2ème partie : récupérer les mesures effectuées sur latispro\n",
    "    \n",
    "&nbsp;\n",
    "1- Les mesures effectuées sous latispro ont été sauvegardées dans un fichier .csv  (image ci-dessous)\n",
    "\n",
    "&nbsp;\n",
    "2- Le fichier .csv a été rattaché à cette activité notebook. Tous les fichiers rattachés sont visibles dans le menu en cliquant sur l'icône trombone.\n",
    "    "
   ]
  },
  {
   "cell_type": "markdown",
   "metadata": {},
   "source": [
    "<img src=\"https://capytale2.ac-paris.fr/web/sites/default/files/2022/04-21/17-43-30/Capture_latis.JPG\" > </center>"
   ]
  },
  {
   "cell_type": "markdown",
   "metadata": {},
   "source": [
    "#### <font color=\"green\" > Travail à faire 1 : <font>\n",
    "\n",
    "* Identifier le séparateur du fichier .csv de la copie d'écran ci dessus. Pour visualiser un fichier .csv, vous pouvez l'ouvrir avec le bloc note.\n",
    "* Dans le programme ci-dessous, rajouter les lignes de code qui permettent de remplir les listes de A et de C à partir des données extraites du fichier beer_lambert.csv.\n",
    "* Le programme doit également afficher ces listes."
   ]
  },
  {
   "cell_type": "markdown",
   "metadata": {},
   "source": [
    "## <font color=\"blue\" > Aide : lire les fichiers .csv<font>\n",
    "https://capytale2.ac-paris.fr/web/sites/default/files/2022/05-12/8-08-37/lecture_fichiers_csv.html"
   ]
  },
  {
   "cell_type": "code",
   "execution_count": null,
   "metadata": {
    "scrolled": false
   },
   "outputs": [],
   "source": [
    "import csv\n",
    "c=[]\n",
    "A=[]\n",
    "with open('beer_lambert.csv','r') as fichier:     \n",
    "    fichier.readline()\n",
    "    for ligne in fichier:\n",
    "        ligne_lue=ligne.split(';')\n",
    "        c.append(float(ligne_lue[0].replace(',','.'))) # [0] permettrait de récupérer le temps\n",
    "        A.append(float(ligne_lue[1].replace(',','.')))\n",
    "\n",
    "        \n",
    "        \n",
    "tab=[[\"            c(mol/L)\",\"            A\"]]\n",
    "\n",
    "for i in range (len(c)) :\n",
    "    tab.append([c[i],A[i]])\n",
    "\n",
    "form=\"{0:25}{1:25}\"\n",
    "for val in tab:\n",
    "     print (form.format(*val))\n",
    "\n"
   ]
  },
  {
   "cell_type": "markdown",
   "metadata": {},
   "source": [
    "<div class=\"alert alert-success\" role=\"alert\">\n",
    "<center><b>3ème partie : Tracé du graphique\n",
    " "
   ]
  },
  {
   "cell_type": "markdown",
   "metadata": {},
   "source": [
    "## <font color=\"blue\" > Aide : les graphes <font>\n",
    "https://capytale2.ac-paris.fr/web/sites/default/files/2022/04-14/14-49-22/graphes.html"
   ]
  },
  {
   "cell_type": "markdown",
   "metadata": {},
   "source": [
    "#### <font color=\"green\" > Travail à faire 2 : <font>\n",
    "\n",
    "* tracer le graphe A = f(c)"
   ]
  },
  {
   "cell_type": "code",
   "execution_count": null,
   "metadata": {},
   "outputs": [],
   "source": [
    "plt.clf()\n",
    "plt.figure(1)\n",
    "fig = plt.figure(figsize=(5,5))\n",
    "plt.plot(c,A,'r+',ms=5.) # tracé des points,'r+' : points rouges sous forme de croix ms détermine la taille des marqueurs.\n",
    "plt.xlim(-0.001, max(c)+max(c)/10)  # on délimite les valeurs min et max de l'axe des abscisses\n",
    "plt.ylim(-0.1/100, max(A) +max(A)/10)\n",
    "plt.xlabel(\"c en mol/L\") # on indique la grandeur sur l'axe des abscisses.\n",
    "plt.ylabel(\"A Absorbance \") # on indique la grandeur sur l'axe des ordonnées.\n",
    "plt.title( \"Etude de A en fonction de c\") # on indique le titre.\n",
    "\n",
    "plt.show()  # on affiche le graphe\n",
    "\n"
   ]
  },
  {
   "cell_type": "markdown",
   "metadata": {},
   "source": [
    "<div class=\"alert alert-success\" role=\"alert\">\n",
    "    <center><b>4ème partie : Modélisation du nuage de points</b>\n",
    "<div style=\"text-align:left;\"    \n",
    "  \n"
   ]
  },
  {
   "cell_type": "markdown",
   "metadata": {},
   "source": [
    "#### <font color=\"green\" > Travail à faire 3 : <font>\n",
    "\n",
    "* utiliser la fonction polyfit avec le bon degré de polynome\n",
    "* créer les listes vides A_mod et c_mod pour les grandeurs à modéliser\n",
    "* à l'aide des coefficients du polynome et d'une boucle for, remplir les listes A_mod et c_mod\n",
    "* tracer le graphique A=f(c) faisant apparaitre les points expérimentaux et la courbe de modélisation"
   ]
  },
  {
   "cell_type": "markdown",
   "metadata": {},
   "source": [
    "## <font color=\"blue\" > Aide  : modéliser une courbe polynomiale <font>\n",
    "   \n",
    "https://capytale2.ac-paris.fr/web/sites/default/files/2022/04-11/11-31-35/modelisation.html\n",
    "    "
   ]
  },
  {
   "cell_type": "code",
   "execution_count": null,
   "metadata": {},
   "outputs": [],
   "source": [
    "from numpy import*\n",
    "\n",
    "Modele = polyfit(c,A,1) # (c,A,n) le n indique qu'on penche pour un polynome de degré n\n",
    "b,d = [coef for coef in Modele] # permet de récupérer les coefficients du type bx+d\n",
    "\n",
    "c_mod=[] # on crée les listes vides pour les coordonnées du polynome\n",
    "A_mod = []\n",
    "\n",
    "for i in range (30) :# on crée des listes avec 30 valeurs\n",
    "    c_mod.append(min(c) + i*max(c)/30) # on définit les valeurs des abscisses en se basant sur le max et le min des valeurs de pointage\n",
    "    A_mod.append(b*c_mod[i]+d) # on calcule l'ordonnée avec les coefficients du polynome\n",
    "                                # Attention ne pas mettre b*c_mod[i]+c car c c'est déjà une varibale concentration\n",
    "\n",
    "plt.figure(1)\n",
    "plt.plot(c_mod,A_mod,'r-', color=\"blue\") # tracé des points, ms détermine la taille des marqueurs.\n",
    "plt.text(0.001,0.3,\"A=\" +str(round(b,2)) + chr(215)+\"C\" \"+\"+str(round(d,2)),size=14,bbox=dict(boxstyle=\"round\",ec=(\"k\"),fc=(\"y\")))\n",
    "plt.show()\n",
    "\n",
    "# le code ci dessous permet d'afficher l'équation sur le graphique ( mettre des valeurs pour abscisse et ordonnée et \n",
    "# une grandeur pour coefficient)\n",
    " #plt.text(abscisse,ordonnée,\"A=\" \n",
    "    #+str(round(coefficient directeur,2))\n",
    "    #+ chr(215) : sigle multiplié\n",
    "    #+\"C\" ,size=14,\n",
    "    #bbox=dict(boxstyle=\"round\" : création d'un rectangle (bbox) avec bord rond (boxstyle)\n",
    "    #ec=(\"k\"),fc=(\"y\"))):, ec : couleur des bords noirs et couleur intérieur (fc) jaune"
   ]
  },
  {
   "cell_type": "markdown",
   "metadata": {},
   "source": [
    "<div class=\"alert alert-success\" role=\"alert\">\n",
    "<center><b>5ème partie : Détermination de la concentration molaire de la solution inconnue\n"
   ]
  },
  {
   "cell_type": "markdown",
   "metadata": {},
   "source": [
    "#### <font color=\"green\" > Travail à faire 4 : <font>\n",
    "\n",
    "*  Exécuter la cellule ci-dessous\n",
    "*  A l'aide du curseur, déterminer la concentration de la solution inconnue ( on a mesuré A =0,28)."
   ]
  },
  {
   "cell_type": "code",
   "execution_count": null,
   "metadata": {},
   "outputs": [],
   "source": [
    "from numpy import*\n",
    "class SnaptoCursor: #fonction permettant la création d'un curseur lié au modèle\n",
    "   \n",
    "    def __init__(self, ax, x, y):\n",
    "        self.ax = ax\n",
    "        self.lx = ax.axhline(color='k')  # the horiz line\n",
    "        self.ly = ax.axvline(color='k')  # the vert line\n",
    "        self.x = x\n",
    "        self.y = y\n",
    "        # text location in axes coords\n",
    "        self.txt = ax.text(0.5, 0.9, '', transform=ax.transAxes)\n",
    "\n",
    "    def mouse_move(self, event):\n",
    "        if not event.inaxes:\n",
    "            return\n",
    "\n",
    "        x, y = event.xdata, event.ydata\n",
    "        indx = min(searchsorted(self.x, x), len(self.x) - 1)\n",
    "        x = self.x[indx]\n",
    "        y = self.y[indx]\n",
    "        # update the line positions\n",
    "        self.lx.set_ydata(y)\n",
    "        self.ly.set_xdata(x)\n",
    "\n",
    "        self.txt.set_text('C=%1.4f, A=%1.3f' % (x, y))\n",
    "\n",
    "        self.ax.figure.canvas.draw()\n",
    "\n",
    "plt.clf()\n",
    "fig, ax = plt.subplots()\n",
    "plt.plot(c_mod,A_mod,'r')\n",
    "plt.xlabel(\"Concentration molaire C (mmol/L)\")\n",
    "plt.ylabel(\"Absorbance\")\n",
    "plt.grid()\n",
    "plt.title(\"A = f(C)\")    \n",
    "plt.show()\n",
    "#Affichage du curseur\n",
    "cursor = SnaptoCursor(ax,c_mod, A_mod)\n",
    "cid =  plt.connect('motion_notify_event', cursor.mouse_move)"
   ]
  },
  {
   "cell_type": "markdown",
   "metadata": {},
   "source": [
    "<div class=\"alert alert-success\" role=\"alert\">\n",
    "<left><b>6ème partie : modélisation avec curve_fit</b> \n",
    "    \n",
    " Parfois, le modéle linéaire est peu probant avec polyfit. on peut alors utiliser curve_fit.\n",
    "    \n",
    "   *  on définit la fonction modèle. ( lignes 2,3,4)  \n",
    "   *  on fait le lien entre cette fonction modèle et nos deux listes de valeurs avec curve_fit. (ligne6)\n",
    "   *  on récupère le ou les coefficients. (ligne7)\n",
    "   *  on se sert des coefficients pour obtenir les valeurs modélisées. (ligne9)\n",
    " </div> "
   ]
  },
  {
   "cell_type": "markdown",
   "metadata": {},
   "source": [
    "#### <font color=\"green\" > Travail à faire 5: <font>\n",
    "\n",
    "*  Exécuter la cellule ci-dessous\n",
    "*  repérer la bibliothèque utilisée"
   ]
  },
  {
   "cell_type": "code",
   "execution_count": null,
   "metadata": {},
   "outputs": [],
   "source": [
    "from scipy.optimize import curve_fit  # Importation de la fonction de recherche du modèle.\n",
    "def fonction_modele(coeffDir, concentration):\n",
    "    U = coeffDir * concentration\n",
    "    return(U)\n",
    "\n",
    "coefficients, covar = curve_fit(fonction_modele, c, A)  # On reprend pour les séries en X et en Y les noms des listes utilisées pour la fréquence et la tension de seuil.\n",
    "k = coefficients[0]  # On stocke dans une variable k la valeur du coefficient directeur, premier terme de la liste coefficients.\n",
    "print(k)\n",
    "modeleA = [fonction_modele(k, valeur_C) for valeur_C in c]\n",
    "plt.clf()\n",
    "plt.figure(2)  # Définition du graphique n°2\n",
    "plt.scatter(c, A, color=\"blue\", marker = \"+\", label = \"Points expérimentaux\")  # On place les points (scatter) expérimentaux, avec des + rouges.\n",
    "plt.plot(c, modeleA, color = \"red\", label = f\"Modélisation : A = {k:.2e} x c\")  # On trace la fonction modèle, son étiquette est l'équation de la droite\n",
    "plt.xlabel(\"c (mmol)\")  # Étiquette de l'axe des abscisses\n",
    "plt.ylabel(\"A\")  # Étiquette de l'axe des ordonnées\n",
    "plt.legend()  # Pour afficher la légende (les 'label')\n",
    "plt.grid()  # Affichage du quadrillage\n",
    "plt.show()  # Affichage du graphique\n"
   ]
  },
  {
   "cell_type": "code",
   "execution_count": null,
   "metadata": {},
   "outputs": [],
   "source": []
  }
 ],
 "metadata": {
  "celltoolbar": "Pièces jointes",
  "kernelspec": {
   "display_name": "Python 3",
   "language": "python",
   "name": "python3"
  },
  "language_info": {
   "codemirror_mode": {
    "name": "ipython",
    "version": 3
   },
   "file_extension": ".py",
   "mimetype": "text/x-python",
   "name": "python",
   "nbconvert_exporter": "python",
   "pygments_lexer": "ipython3",
   "version": "3.7.1"
  }
 },
 "nbformat": 4,
 "nbformat_minor": 2
}
