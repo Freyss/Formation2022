{
 "cells": [
  {
   "cell_type": "markdown",
   "metadata": {},
   "source": [
    "# <div class=\"alert alert-info\" role=\"alert\"> <center> Formation python 2022 : avancement chimique</center> "
   ]
  },
  {
   "cell_type": "markdown",
   "metadata": {},
   "source": [
    "# <div class=\"alert alert-success\" role=\"alert\">partie 1 : intégrer des données au programme"
   ]
  },
  {
   "cell_type": "markdown",
   "metadata": {},
   "source": [
    "<div class=\"alert alert-warning\" role=\"alert\"><center><b>Objectifs :\n",
    "    \n",
    "\n",
    "1- Utiliser input pour rentrer des données  \n",
    "\n",
    "2- Différencier les types de données( entiers, décimaux, chaines de caractères)  \n",
    "\n",
    "\n",
    "3- Créer et utiliser des fonctions pour éviter les opérations répétitives.  "
   ]
  },
  {
   "cell_type": "markdown",
   "metadata": {},
   "source": [
    "# Avancement, réactif limitant et état final d'une réaction chimique\n",
    "Pour une équation du type : a.A+b.B → c.C+ d.D , on va dans un premier temps rentrer les valeurs des coefficients stoechiométriques a,b ,c et d puis des quantité de matières des deux réactifs\n"
   ]
  },
  {
   "cell_type": "markdown",
   "metadata": {},
   "source": [
    "#### <font color=\"green\" > Travail à faire 1 : <font>\n",
    "\n",
    "* Créer la fonction permettant de demander les quantités de matières initiales des 2 réactifs.\n",
    "        \n",
    "* Appeler la fonction pour demander la quantité de matières des deux réactifs (On appellera respectivement les quantités de matières initiales de A et de B, n1 et n2).\n",
    "\n",
    "* Exécuter votre programme"
   ]
  },
  {
   "cell_type": "markdown",
   "metadata": {},
   "source": [
    "## <font color=\"blue\" > Aide 1 : la fonction input <font>\n",
    "    \n",
    "https://capytale2.ac-paris.fr/web/c/8cdc-581500"
   ]
  },
  {
   "cell_type": "markdown",
   "metadata": {},
   "source": [
    "## <font color=\"blue\" > Aide 2 : créer des fonctions <font>\n",
    "https://capytale2.ac-paris.fr/web/c/975b-581509"
   ]
  },
  {
   "cell_type": "code",
   "execution_count": null,
   "metadata": {},
   "outputs": [],
   "source": [
    "SUB = str.maketrans(\"0123456789\", \"₀₁₂₃₄₅₆₇₈₉\") # permet de passer les nombres en indice\n",
    "SUP = str.maketrans(\"0123456789\", \"⁰¹²³⁴⁵⁶⁷⁸⁹\") # permet de passer les nombres en exposant\n",
    "\n",
    "#Affecter aux lettres A, B, C et D le noms des molécules.\n",
    "A=\"CH4\".translate(SUB)\n",
    "B=\"O2\" .translate(SUB)\n",
    "C=\"CO2\".translate(SUB)\n",
    "D=\"H2O\".translate(SUB)\n",
    "\n",
    "# Compléterles coefficients stoechiomètriques\n",
    "a=1 \n",
    "b=2\n",
    "c=1\n",
    "d=2\n",
    "\n",
    "def quantite (M) : # on crée une fonction quantité\n",
    "\n",
    "    \n",
    "    \n",
    "    \n",
    "# on appelle la fonction autant de fois que nécéssaire :\n",
    "n1=\n",
    "n2="
   ]
  },
  {
   "cell_type": "markdown",
   "metadata": {},
   "source": [
    "# <div class=\"alert alert-success\" role=\"alert\">partie 2 : intégrer des conditions au programme."
   ]
  },
  {
   "cell_type": "markdown",
   "metadata": {},
   "source": [
    "<div class=\"alert alert-warning\" role=\"alert\"><center><b>Objectifs :\n",
    "    \n",
    "\n",
    "   Utiliser if, elif et else pour comparer des données  \n"
   ]
  },
  {
   "cell_type": "markdown",
   "metadata": {},
   "source": [
    "Le programme ci-dessous calcule l'avancement maximal et les quantités de matière dans l'état final."
   ]
  },
  {
   "cell_type": "markdown",
   "metadata": {},
   "source": [
    "#### <font color=\"green\" > Travail à faire 2 : <font>\n",
    "\n",
    "* Compléter la ligne 1\n",
    "    \n",
    "* Compléter toutes les lignes finisant par =\n",
    "\n",
    "* Exécuter votre programme"
   ]
  },
  {
   "cell_type": "markdown",
   "metadata": {},
   "source": [
    "## <font color=\"blue\" > Aide 3 : structures conditionelles <font>\n",
    "https://capytale2.ac-paris.fr/web/c/5ae1-517578"
   ]
  },
  {
   "cell_type": "code",
   "execution_count": null,
   "metadata": {},
   "outputs": [],
   "source": [
    "if  n1/a<n2/b : #calcul de xmax\n",
    "    xmax = \n",
    "    nA_finale = \n",
    "    nB_finale = \n",
    "    nC_finale = \n",
    "    nD_finale = \n",
    "\n",
    "else :\n",
    "    xmax = \n",
    "    nA_finale =\n",
    "    nB_finale =\n",
    "    nC_finale =\n",
    "    nD_finale =\n",
    "    \n",
    "#affichage de xmax et de l'état final \n",
    "print (\"La valeur de xmax est de \" , xmax,\"mol\") \n",
    "print (\"La quantité de matière à l'état final de \" ,A,\"=\", nA_finale,\"mol\") \n",
    "print (\"La quantité de matière à l'état final de \" ,B,\"=\", nB_finale,\"mol\")\n",
    "print (\"La quantité de matière à l'état final de \" ,C,\"=\", nC_finale,\"mol\")\n",
    "print (\"La quantité de matière à l'état final de \" ,D,\"=\", nD_finale,\"mol\")\n"
   ]
  },
  {
   "cell_type": "markdown",
   "metadata": {},
   "source": [
    "#### <font color=\"green\" > Travail à faire 3 : <font>\n",
    "\n",
    "* Recopier le programme précédent dans l'epace vide ci-dessous.\n",
    "    \n",
    "* Intégrer une condition supplémentaire permettant d'indiquer : \" on a atteint les proportions stoechiométriques\"\n",
    "\n",
    "* Exécuter votre programme"
   ]
  },
  {
   "cell_type": "code",
   "execution_count": null,
   "metadata": {},
   "outputs": [],
   "source": []
  },
  {
   "cell_type": "markdown",
   "metadata": {},
   "source": [
    "# <div class=\"alert alert-success\" role=\"alert\">partie 3 : remplir des listes et tracer des courbes"
   ]
  },
  {
   "cell_type": "markdown",
   "metadata": {},
   "source": [
    "<div class=\"alert alert-warning\" role=\"alert\"><center><b>Objectifs : (réinvestissement)\n",
    "    \n",
    "\n",
    "1- Création de boucles for\n",
    "\n",
    "2- Tracer une courbe\n",
    "\n",
    "\n",
    "3- Tracer plusieurs courbes sur le même graphique"
   ]
  },
  {
   "cell_type": "markdown",
   "metadata": {},
   "source": [
    "On va maintenant tracer les courbes. On crée dans un premier temps les listes vides pour toutes les quantités de matières, on fixe un pas pour l'avancement à partir de l'avancement maximal : le pas c'est xmax/100.\n",
    "on remplit alors les listes avec les 100 valeurs découlant du pas choisi."
   ]
  },
  {
   "cell_type": "markdown",
   "metadata": {},
   "source": [
    "#### <font color=\"green\" > Travail à faire 4 : <font>\n",
    "\n",
    "* Remplir les listes vides avec une boucle for en s'appuyant sur la liste x\n",
    "* Exécuter votre programme"
   ]
  },
  {
   "cell_type": "markdown",
   "metadata": {},
   "source": [
    "## <font color=\"blue\" > Aide 4: les boucles <font>\n",
    "https://capytale2.ac-paris.fr/web/sites/default/files/2022/04-14/14-49-16/boucles.html"
   ]
  },
  {
   "cell_type": "code",
   "execution_count": null,
   "metadata": {},
   "outputs": [],
   "source": [
    "#tracés des courbes\n",
    "x=[]     # on crée les listes vides\n",
    "n11=[]\n",
    "n22=[]\n",
    "n33=[]\n",
    "n44=[]\n",
    "\n",
    "for i in range(0,101,1):   # les valeurs s'étendent de 0 à 100 avec un pas de 1\n",
    "    x.append(i*xmax/100)\n",
    "    n11.append()\n",
    "\n"
   ]
  },
  {
   "cell_type": "markdown",
   "metadata": {},
   "source": [
    "On trace ensuite les courbes avec les quantités de matières en ordonnée et l'avancement en abscisse."
   ]
  },
  {
   "cell_type": "markdown",
   "metadata": {},
   "source": [
    "#### <font color=\"green\" > Travail à faire 5 : <font>\n",
    "\n",
    "* créer le programme permettant de tracer les courbes d'évolution des réactifs et produits.\n",
    "* Exécuter votre programme"
   ]
  },
  {
   "cell_type": "markdown",
   "metadata": {},
   "source": [
    "## <font color=\"blue\" > Aide 5: les graphes <font>\n",
    "https://capytale2.ac-paris.fr/web/sites/default/files/2022/04-14/14-49-22/graphes.html"
   ]
  },
  {
   "cell_type": "code",
   "execution_count": null,
   "metadata": {},
   "outputs": [],
   "source": [
    "import matplotlib.pyplot as plt\n",
    "%matplotlib inline\n",
    "plt.clf()\n"
   ]
  }
 ],
 "metadata": {
  "kernelspec": {
   "display_name": "Python 3",
   "language": "python",
   "name": "python3"
  },
  "language_info": {
   "codemirror_mode": {
    "name": "ipython",
    "version": 3
   },
   "file_extension": ".py",
   "mimetype": "text/x-python",
   "name": "python",
   "nbconvert_exporter": "python",
   "pygments_lexer": "ipython3",
   "version": "3.7.1"
  }
 },
 "nbformat": 4,
 "nbformat_minor": 2
}
