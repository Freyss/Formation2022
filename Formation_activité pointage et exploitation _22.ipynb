{
 "cells": [
  {
   "cell_type": "markdown",
   "metadata": {
    "deletable": false,
    "editable": false
   },
   "source": [
    "# <div class=\"alert alert-info\" role=\"alert\"> <center> Formation python 2022</center> "
   ]
  },
  {
   "cell_type": "markdown",
   "metadata": {},
   "source": [
    "# <div class=\"alert alert-success\" role=\"alert\">Partie 1 - Pointage, récupération des listes de coordonnées et tracés de courbes</div>"
   ]
  },
  {
   "cell_type": "markdown",
   "metadata": {},
   "source": [
    "Lien vers mécachrono :\n",
    "\n",
    "www.eleves.online/MecaChrono/index.php?A=6&B=0&C=0&D=15&E=4&H=1234232135&lang=fr\n",
    "\n",
    "Tuto ci dessous :"
   ]
  },
  {
   "cell_type": "markdown",
   "metadata": {},
   "source": [
    "<a href=\"https://youtu.be/vpSA7xA5kHg\"><img src=\"https://capytale2.ac-paris.fr/web/sites/default/files/2022/04-11/10-19-41/Capture1.JPG\" height=\"441\" width=\"346\"></a> </center>"
   ]
  },
  {
   "cell_type": "markdown",
   "metadata": {},
   "source": [
    "#### <font color=\"green\" > Travail à faire 1 : <font>\n",
    "\n",
    "* Faire le pointage de la balle puis repérer l'icone permettant de copier les coordonnées du pointage sous forme de liste python.\n",
    "\n",
    "(lien vers la vidéo : www.pearltrees.com/emeance/relativite-mouvement-vecteurs/id51435900/item431648141)\n",
    "\n"
   ]
  },
  {
   "cell_type": "markdown",
   "metadata": {},
   "source": [
    "## <font color=\"blue\" > Aide 1 : les graphes <font>\n",
    "    \n",
    "  https://capytale2.ac-paris.fr/web/sites/default/files/2022/04-11/10-16-59/graphes.html"
   ]
  },
  {
   "cell_type": "markdown",
   "metadata": {},
   "source": [
    "#### <font color=\"green\" > Travail à faire 2 : <font>\n",
    "\n",
    "* Importer les bibliothèques nécessaires au tracé des courbes et aux calculs en haut du bloc ci-dessous.\n",
    "\n",
    "*  coller ensuite les coordonnées du pointage sous forme de liste python.\n",
    "\n",
    "* Tracer la courbe correspondant à la trajectoire avec un repère orthonormé avec le mimimum d'information puis exécuter le programme.\n",
    "    \n",
    "* Rajouter des lignes d'instructions afin d'ajouter des informations au graphique\n",
    "\n"
   ]
  },
  {
   "cell_type": "code",
   "execution_count": null,
   "metadata": {},
   "outputs": [],
   "source": [
    "# mettre les bibliothèques\n",
    "%matplotlib inline\n",
    "\n",
    "\n",
    "# coller les listes\n",
    "\n",
    "\n",
    "# mettre les instructions pour l'affichage de la courbe\n",
    "plt.figure(\"figure1\")\n",
    "plt.clf() # efface la courbe présente\n",
    "\n"
   ]
  },
  {
   "cell_type": "markdown",
   "metadata": {},
   "source": [
    "#### <font color=\"green\" > Travail à faire 3 : <font>\n",
    "\n",
    "* faire le pointage d'une des roues de la trottinette et coller les coordonnées obtenues dans le bloc de code ci-dessous.\n",
    "* Faire suivre les instructions permettant d'afficher la trajectoire de la balle et de la roue sur un nouveau graphique.\n"
   ]
  },
  {
   "cell_type": "code",
   "execution_count": null,
   "metadata": {},
   "outputs": [],
   "source": [
    "plt.figure(\"figure2\")\n",
    "plt.clf() # efface la courbe présente\n"
   ]
  },
  {
   "cell_type": "markdown",
   "metadata": {},
   "source": [
    " # <div class=\"alert alert-success\" role=\"alert\">Partie 2 : calculs de vitesses avec des listes et des boucles</div>"
   ]
  },
  {
   "cell_type": "markdown",
   "metadata": {},
   "source": [
    "#### <font color=\"green\" > Travail à faire 4 : <font>\n",
    "\n",
    "* A l'aide d'une boucle for, remplir les listes vx et vy pour la balle\n",
    "* Créer une liste v pour les normes des vitesses de la balle en chaque point puis la remplir à l'aide d'une autre boucle ou de la précédente.\n",
    "* Afficher la liste des vitesses.\n",
    "\n"
   ]
  },
  {
   "cell_type": "markdown",
   "metadata": {},
   "source": [
    "## <font color=\"blue\" > Aide 2 : boucles for <font>\n",
    "    \n",
    " https://capytale2.ac-paris.fr/web/sites/default/files/2022/04-11/10-16-42/boucles.html"
   ]
  },
  {
   "cell_type": "markdown",
   "metadata": {},
   "source": [
    "## <font color=\"blue\" > Aide 3 : des fonctions mathématiques <font>\n",
    "   https://capytale2.ac-paris.fr/web/sites/default/files/2022/04-11/10-17-04/calculs.html"
   ]
  },
  {
   "cell_type": "code",
   "execution_count": null,
   "metadata": {},
   "outputs": [],
   "source": [
    "from math import*\n",
    "dt=0.04\n",
    "vx=[]\n",
    "vy=[]\n",
    "\n"
   ]
  },
  {
   "cell_type": "markdown",
   "metadata": {},
   "source": [
    " ## <font color=\"blue\" >  Aide facultative : afficher les résultats sous forme d'un tableau <font>\n",
    "\n",
    "https://capytale2.ac-paris.fr/web/sites/default/files/2022/05-08/12-20-55/tableaux.html\n",
    "\n"
   ]
  },
  {
   "cell_type": "markdown",
   "metadata": {},
   "source": [
    "# <div class=\"alert alert-success\" role=\"alert\">Partie 3 : tracer des vecteurs</div>"
   ]
  },
  {
   "cell_type": "markdown",
   "metadata": {},
   "source": [
    "#### <font color=\"green\" > Travail à faire 5 : <font>\n",
    "    \n",
    "* tracer les vecteurs vitesses un point sur deux pour la balle"
   ]
  },
  {
   "cell_type": "code",
   "execution_count": null,
   "metadata": {},
   "outputs": [],
   "source": [
    "plt.figure(\"figure 3\")\n",
    "plt.clf()\n",
    "\n"
   ]
  },
  {
   "cell_type": "markdown",
   "metadata": {},
   "source": [
    "## <font color=\"blue\" > Aide 4 : tracer des flèches <font>\n",
    "   \n",
    " https://capytale2.ac-paris.fr/web/sites/default/files/2022/04-11/10-42-23/fleches.html"
   ]
  },
  {
   "cell_type": "markdown",
   "metadata": {},
   "source": [
    "#### <font color=\"green\" > Travail à faire 6 : <font>\n",
    " A la suite du travail 5\n",
    "* créer des listes vides pour le vecteur variation de vitesse ( delta_vx[ ] par exemple)\n",
    "* remplir ces listes à l'aide d'une boucle for\n",
    "* tracer les vecteurs variations de vitesse sur la trajectoire de la balle\n"
   ]
  },
  {
   "cell_type": "markdown",
   "metadata": {},
   "source": [
    " ## <font color=\"blue\" >  Aide facultative : gérer et afficher l'échelle des vecteurs. <font>\n",
    "\n",
    "https://capytale2.ac-paris.fr/web/sites/default/files/2022/05-08/15-43-31/echelle_vit.html\n",
    "\n"
   ]
  },
  {
   "cell_type": "markdown",
   "metadata": {},
   "source": [
    "# <div class=\"alert alert-success\" role=\"alert\">Partie 4 : modélisation</div>"
   ]
  },
  {
   "cell_type": "markdown",
   "metadata": {},
   "source": [
    "Les erreurs de pointage peuvent amener à des tracés de vecteurs vitesse pas toujours extraordinaires. Pour corriger ces erreurs, on peut modéliser la courbe obtenue et tracer les vecteurs à partir du modèle."
   ]
  },
  {
   "cell_type": "markdown",
   "metadata": {},
   "source": [
    "#### <font color=\"green\" > Travail à faire 7 : <font>\n",
    "    \n",
    "* modéliser la courbe.\n",
    "* Créer les coordonnés liées à cette modélisation en se basant sur les coordonnées existantes\n",
    "* tracer la courbe de modélisation en y faisant apparaître les vecteurs variations de vitesses, les coordonnées de ces vecteurs ayant été recalculées à partir du modèle."
   ]
  },
  {
   "cell_type": "markdown",
   "metadata": {},
   "source": [
    "## <font color=\"blue\" > Aide 5 : modéliser une courbe polynomiale <font>\n",
    "   \n",
    "https://capytale2.ac-paris.fr/web/sites/default/files/2022/05-08/15-54-11/modelisation.html"
   ]
  },
  {
   "cell_type": "code",
   "execution_count": null,
   "metadata": {},
   "outputs": [],
   "source": [
    "plt.figure(\"figure 4\")    \n",
    "plt.clf()"
   ]
  }
 ],
 "metadata": {
  "celltoolbar": "Éditer les Méta-Données",
  "kernelspec": {
   "display_name": "Python 3",
   "language": "python",
   "name": "python3"
  },
  "language_info": {
   "codemirror_mode": {
    "name": "ipython",
    "version": 3
   },
   "file_extension": ".py",
   "mimetype": "text/x-python",
   "name": "python",
   "nbconvert_exporter": "python",
   "pygments_lexer": "ipython3",
   "version": "3.7.1"
  }
 },
 "nbformat": 4,
 "nbformat_minor": 2
}
