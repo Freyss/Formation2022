{
 "cells": [
  {
   "cell_type": "markdown",
   "metadata": {
    "deletable": false,
    "editable": false
   },
   "source": [
    "# <div class=\"alert alert-info\" role=\"alert\"> <center> Formation python 2022</center> "
   ]
  },
  {
   "cell_type": "markdown",
   "metadata": {},
   "source": [
    "# <div class=\"alert alert-success\" role=\"alert\">Partie 1 - Pointage, récupération des listes de coordonnées et tracés de courbes</div>"
   ]
  },
  {
   "cell_type": "markdown",
   "metadata": {},
   "source": [
    "Lien vers mécachrono :\n",
    "\n",
    "www.eleves.online/MecaChrono/index.php?A=6&B=0&C=0&D=15&E=4&H=1234232135&lang=fr\n",
    "\n",
    "Tuto ci dessous :"
   ]
  },
  {
   "cell_type": "markdown",
   "metadata": {},
   "source": [
    "<a href=\"https://youtu.be/vpSA7xA5kHg\"><img src=\"https://capytale2.ac-paris.fr/web/sites/default/files/2022/04-11/10-19-41/Capture1.JPG\" height=\"441\" width=\"346\"></a> </center>"
   ]
  },
  {
   "cell_type": "markdown",
   "metadata": {},
   "source": [
    "#### <font color=\"green\" > Travail à faire 1 : <font>\n",
    "\n",
    "* Faire le pointage de la balle puis repérer l'icone permettant de copier les coordonnées du pointage sous forme de liste python.\n",
    "\n",
    "(lien vers la vidéo : www.pearltrees.com/emeance/relativite-mouvement-vecteurs/id51435900/item431648141)\n",
    "\n"
   ]
  },
  {
   "cell_type": "markdown",
   "metadata": {},
   "source": [
    "## <font color=\"blue\" > Aide 1 : les graphes <font>\n",
    "    \n",
    "  https://capytale2.ac-paris.fr/web/sites/default/files/2022/04-11/10-16-59/graphes.html"
   ]
  },
  {
   "cell_type": "markdown",
   "metadata": {},
   "source": [
    "#### <font color=\"green\" > Travail à faire 2 : <font>\n",
    "\n",
    "* Importer les bibliothèques nécessaires au tracé des courbes et aux calculs en haut du bloc ci-dessous.\n",
    "\n",
    "*  coller ensuite les coordonnées du pointage sous forme de liste python.\n",
    "\n",
    "* Tracer la courbe correspondant à la trajectoire avec un repère orthonormé avec le mimimum d'information puis exécuter le programme.\n",
    "    \n",
    "* Rajouter des lignes d'instructions afin d'ajouter des informations au graphique\n",
    "\n"
   ]
  },
  {
   "cell_type": "code",
   "execution_count": 1,
   "metadata": {},
   "outputs": [
    {
     "data": {
      "image/png": "[encoded data removed]",
      "text/plain": [
       "<Figure size 432x288 with 1 Axes>"
      ]
     },
     "metadata": {
      "needs_background": "light"
     },
     "output_type": "display_data"
    }
   ],
   "source": [
    "# mettre les bibliothèques\n",
    "import matplotlib.pyplot as plt \n",
    "%matplotlib inline\n",
    "\n",
    "# coller les listes\n",
    "x = [0.604719, 0.836122, 1.06339, 1.2824, 1.50967, 1.73694, 1.97248, 2.19148, 2.41875, 2.65016, 2.87743, 3.09643, 3.34437, 3.55924]\n",
    "\n",
    "y = [2.44937, 2.40805, 2.33367, 2.25103, 2.16012, 2.02789, 1.87087, 1.73037, 1.53203, 1.33368, 1.11881, 0.879139, 0.606414, 0.329557]\n",
    "\n",
    "\n",
    "# mettre les instructions pour l'affichage de la courbe\n",
    "plt.figure(\"figure1\")\n",
    "plt.plot(x,y,'r+',ms=5.) # tracé des points,'r+' : points rouges sous forme de croix ms détermine la taille des marqueurs.\n",
    "plt.xlim(min(x)-max(x)/100, max(x)+max(x)/10)  # on délimite les valeurs min et max de l'axe des abscisses\n",
    "plt.ylim(min(y)-max(y)/100, max(y) +max(y)/10)\n",
    "plt.xlabel(\"x en m\") # on indique la grandeur sur l'axe des abscisses.\n",
    "plt.ylabel(\"y en m\") # on indique la grandeur sur l'axe des ordonnées.\n",
    "plt.title( \"trajectoire \") # on indique le titre.\n",
    "plt.axis('equal') # on choisit un graphe orthormé\n",
    "# on affiche un premier graphique. A refaire pour tracer un autre graphique sinon les graphes se superposent\n",
    "plt.show()  # on affiche le graphe"
   ]
  },
  {
   "cell_type": "markdown",
   "metadata": {},
   "source": [
    "#### <font color=\"green\" > Travail à faire 3 : <font>\n",
    "\n",
    "* faire le pointage d'une des roues de la trottinette et coller les coordonnées obtenues dans le bloc de code ci-dessous.\n",
    "* Faire suivre les instructions permettant d'afficher la trajectoire de la balle et de la roue sur un nouveau graphique.\n"
   ]
  },
  {
   "cell_type": "code",
   "execution_count": 2,
   "metadata": {},
   "outputs": [
    {
     "data": {
      "image/png": "[encoded data removed]",
      "text/plain": [
       "<Figure size 432x288 with 1 Axes>"
      ]
     },
     "metadata": {
      "needs_background": "light"
     },
     "output_type": "display_data"
    }
   ],
   "source": [
    "x_r = [0.0180197, 0.242055, 0.457793, 0.690126, 0.901715, 1.13405, 1.36223, 1.57797, 1.79371, 2.02604, 2.25008, 2.44922, 2.6774, 2.89729]\n",
    "\n",
    "y_r = [0.332265, 0.323967, 0.319818, 0.332265, 0.323967, 0.319818, 0.336414, 0.336414, 0.332265, 0.340563, 0.340563, 0.340563, 0.34886, 0.34886]\n",
    "plt.figure(\"figure 2\")\n",
    "plt.plot(x,y,'r+',ms=5.) # tracé des points,'r+' : points rouges sous forme de croix ms détermine la taille des marqueurs.\n",
    "plt.plot(x_r,y_r,'b+',ms=5.)\n",
    "plt.xlim(min(x)-max(x)/100, max(x)+max(x)/10)  # on délimite les valeurs min et max de l'axe des abscisses\n",
    "plt.ylim(min(y)-max(y)/100, max(y) +max(y)/10)\n",
    "plt.xlabel(\"x en m\") # on indique la grandeur sur l'axe des abscisses.\n",
    "plt.ylabel(\"y en m\") # on indique la grandeur sur l'axe des ordonnées.\n",
    "plt.title( \"trajectoire \") # on indique le titre.\n",
    "plt.axis('equal') # on choisit un graphe orthormé\n",
    "# on affiche un premier graphique. A refaire pour tracer un autre graphique sinon les graphes se superposent\n",
    "plt.show()  # on affiche le graphe\n"
   ]
  },
  {
   "cell_type": "markdown",
   "metadata": {},
   "source": [
    " # <div class=\"alert alert-success\" role=\"alert\">Partie 2 : calculs de vitesses avec des listes et des boucles</div>"
   ]
  },
  {
   "cell_type": "markdown",
   "metadata": {},
   "source": [
    "#### <font color=\"green\" > Travail à faire 4 : <font>\n",
    "\n",
    "* A l'aide d'une boucle for, remplir les listes vx et vy pour la balle\n",
    "* Créer une liste v pour les normes des vitesses de la balle en chaque point puis la remplir à l'aide d'une autre boucle ou de la précédente.\n",
    "* Afficher la liste des vitesses.\n",
    "\n"
   ]
  },
  {
   "cell_type": "markdown",
   "metadata": {},
   "source": [
    "## <font color=\"blue\" > Aide 2 : boucles for <font>\n",
    "    \n",
    " https://capytale2.ac-paris.fr/web/sites/default/files/2022/04-11/10-16-42/boucles.html"
   ]
  },
  {
   "cell_type": "markdown",
   "metadata": {},
   "source": [
    "## <font color=\"blue\" > Aide 3 : des fonctions mathématiques <font>\n",
    "   https://capytale2.ac-paris.fr/web/sites/default/files/2022/04-11/10-17-04/calculs.html"
   ]
  },
  {
   "cell_type": "code",
   "execution_count": 3,
   "metadata": {},
   "outputs": [
    {
     "name": "stdout",
     "output_type": "stream",
     "text": [
      " vx(m/s)   vy(m/s)   v(m/s)  \n",
      " 5.79     -1.03      5.88\n",
      " 5.68     -1.86      5.98\n",
      " 5.48     -2.07      5.85\n",
      " 5.68     -2.27      6.12\n",
      " 5.68     -3.31      6.57\n",
      " 5.89     -3.93      7.08\n",
      " 5.47     -3.51       6.5\n",
      " 5.68     -4.96      7.54\n",
      " 5.79     -4.96      7.62\n",
      " 5.68     -5.37      7.82\n",
      " 5.47     -5.99      8.12\n",
      "  6.2     -6.82      9.21\n",
      " 5.37     -6.92      8.76\n"
     ]
    }
   ],
   "source": [
    "from math import*\n",
    "dt=0.04\n",
    "vx=[]\n",
    "vy=[]\n",
    "v=[]\n",
    "\n",
    "for i in range(0,len(x)-1) :\n",
    "    vx.append((x[i+1] -x[i])/dt)\n",
    "    vy.append((y[i+1] -y[i])/dt)\n",
    "    v.append (sqrt(vx[i]**2 +vy[i]**2))  \n",
    "    \n",
    "tab=[[\" vx(m/s) \",\"  vy(m/s) \",\"  v(m/s) \"]]\n",
    "\n",
    "for i in range (len(vx)) :\n",
    "    tab.append([round(vx[i],2), round(vy[i],2),round(v[i],2)])\n",
    "\n",
    "form=\"{0:5}{1:10}{2:10}\"\n",
    "for val in tab:\n",
    "     print (form.format(*val))"
   ]
  },
  {
   "cell_type": "markdown",
   "metadata": {},
   "source": [
    " ## <font color=\"blue\" >  Aide facultative : afficher les résultats sous forme d'un tableau <font>\n",
    "\n",
    "https://capytale2.ac-paris.fr/web/sites/default/files/2022/05-08/12-20-55/tableaux.html\n",
    "\n"
   ]
  },
  {
   "cell_type": "markdown",
   "metadata": {},
   "source": [
    "# <div class=\"alert alert-success\" role=\"alert\">Partie 3 : tracer des vecteurs</div>"
   ]
  },
  {
   "cell_type": "markdown",
   "metadata": {},
   "source": [
    "#### <font color=\"green\" > Travail à faire 5 : <font>\n",
    "    \n",
    "* tracer les vecteurs vitesses un point sur deux pour la balle"
   ]
  },
  {
   "cell_type": "code",
   "execution_count": 4,
   "metadata": {},
   "outputs": [
    {
     "data": {
      "image/png": "[encoded data removed]",
      "text/plain": [
       "<Figure size 432x288 with 1 Axes>"
      ]
     },
     "metadata": {
      "needs_background": "light"
     },
     "output_type": "display_data"
    }
   ],
   "source": [
    "plt.figure(\"figure 3\")\n",
    "plt.clf()\n",
    "plt.xlim(0, max(x)*1.2)  # on délimite les valeurs min et max de l'axe des abscisses\n",
    "plt.ylim(0, max(y)*1.2)\n",
    "\n",
    "plt.plot(x, y, \"go\")\n",
    "for i in range (0,len(vx),2) :\n",
    "     vit=plt.quiver(x[i], y[i], vx[i], vy[i], angles='xy', scale_units='xy', scale=15, color='b', width=0.005)\n",
    "    \n",
    "plt.quiverkey(vit,0.5,0.5,5,label='echelle 5 m/s', coordinates='data' )# permet d'afficher l'échelle des vecteurs\n",
    "\n",
    "    \n",
    "plt.xlabel(\"x (m)\")\n",
    "\n",
    "plt.ylabel(\"y (m)\")\n",
    "plt.title(\"Trajectoire d'une balle\")\n",
    "\n",
    "\n",
    "\n",
    "delta_vx=[]\n",
    "delta_vy=[]\n",
    "for i in range (1,len(vx) -1):\n",
    "    delta_vx.append(vx[i+1]-vx[i])\n",
    "    delta_vy.append(vy[i+1]-vy[i])\n",
    "\n",
    "for i in range (0,len(delta_vx),3) :\n",
    "    dv=plt.quiver(x[i], y[i], delta_vx[i], delta_vy[i], angles='xy', scale_units='xy', scale=1, color='green', width=0.005)\n",
    "\n",
    "plt.quiverkey(dv,2,0.5,1,label='echelle 1 m/s', coordinates='data' )# permet d'afficher l'échelle des vecteurs\n",
    "\n",
    "plt.show()\n"
   ]
  },
  {
   "cell_type": "markdown",
   "metadata": {},
   "source": [
    "## <font color=\"blue\" > Aide 4 : tracer des flèches <font>\n",
    "   \n",
    " https://capytale2.ac-paris.fr/web/sites/default/files/2022/04-11/10-42-23/fleches.html"
   ]
  },
  {
   "cell_type": "markdown",
   "metadata": {},
   "source": [
    "#### <font color=\"green\" > Travail à faire 6 : <font>\n",
    " A la suite du travail 5\n",
    "* créer des listes vides pour le vecteur variation de vitesse ( delta_vx[ ] par exemple)\n",
    "* remplir ces listes à l'aide d'une boucle for\n",
    "* tracer les vecteurs variations de vitesse sur la trajectoire de la balle\n"
   ]
  },
  {
   "cell_type": "markdown",
   "metadata": {},
   "source": [
    " ## <font color=\"blue\" >  Aide facultative : gérer et afficher l'échelle des vecteurs. <font>\n",
    "\n",
    "https://capytale2.ac-paris.fr/web/sites/default/files/2022/05-08/15-43-31/echelle_vit.html\n",
    "\n"
   ]
  },
  {
   "cell_type": "markdown",
   "metadata": {},
   "source": [
    "# <div class=\"alert alert-success\" role=\"alert\">Partie 4 : modélisation</div>"
   ]
  },
  {
   "cell_type": "markdown",
   "metadata": {},
   "source": [
    "Les erreurs de pointage peuvent amener à des tracés de vecteurs vitesse pas toujours extraordinaires. Pour corriger ces erreurs, on peut modéliser la courbe obtenue et tracer les vecteurs à partir du modèle."
   ]
  },
  {
   "cell_type": "markdown",
   "metadata": {},
   "source": [
    "#### <font color=\"green\" > Travail à faire 7 : <font>\n",
    "    \n",
    "* modéliser la courbe.\n",
    "* Créer les coordonnés liées à cette modélisation en se basant sur les coordonnées existantes\n",
    "* tracer la courbe de modélisation en y faisant apparaître les vecteurs variations de vitesses, les coordonnées de ces vecteurs ayant été recalculées à partir du modèle."
   ]
  },
  {
   "cell_type": "markdown",
   "metadata": {},
   "source": [
    "## <font color=\"blue\" > Aide 5 : modéliser une courbe polynomiale <font>\n",
    "   \n",
    "https://capytale2.ac-paris.fr/web/sites/default/files/2022/05-08/15-54-11/modelisation.html"
   ]
  },
  {
   "cell_type": "code",
   "execution_count": 5,
   "metadata": {},
   "outputs": [
    {
     "data": {
      "image/png": "[encoded data removed]",
      "text/plain": [
       "<Figure size 432x288 with 1 Axes>"
      ]
     },
     "metadata": {
      "needs_background": "light"
     },
     "output_type": "display_data"
    }
   ],
   "source": [
    "from numpy import*\n",
    "Modele = polyfit(x,y,2) # le 2 indique qu'on penche pour un polynome de degré 2\n",
    "\n",
    "a,b,c = [coef for coef in Modele] # permet de récupérer les coefficients du type ax² +bx+c\n",
    "\n",
    "\n",
    "x_mod=[] # on crée les listes vides pour les coordonnées du polynome\n",
    "y_mod = []\n",
    "\n",
    "for i in range (len(x)) :# on crée des listes avec autant de valeurs que les listes initiales.\n",
    "    x_mod.append(min(x) + i*(max(x)-min(x))/len(x)) # on définit les valeurs des abscisses en se basant sur le max et le min des valeurs de pointage\n",
    "    y_mod.append(a*x_mod[i]**2+ +b*x_mod[i]+c) # on calcule l'ordonnée avec les coefficients du polynome\n",
    "   \n",
    "plt.figure(\"figure 4\")    \n",
    "plt.clf()\n",
    "plt.plot(x_mod,y_mod,'r+',ms=5.) # tracé des points, ms détermine la taille des marqueurs.\n",
    "plt.xlim(min(y_mod)-max(y_mod)/10, max(y_mod)+max(y_mod)/10)  # on délimite les valeurs min et max de l'axe des abscisses\n",
    "plt.axis('equal')\n",
    "\n",
    "vx_mod=[]\n",
    "vy_mod=[]\n",
    "\n",
    "\n",
    "for i in range(0,len(x_mod)-1) :\n",
    "    vx_mod.append((x_mod[i+1] -x_mod[i])/dt)\n",
    "    vy_mod.append((y_mod[i+1] -y_mod[i])/dt)\n",
    "\n",
    "delta_vx_mod=[]\n",
    "delta_vy_mod=[]\n",
    "\n",
    "for i in range (1,len(vx) -1):\n",
    "    delta_vx_mod.append(vx_mod[i+1]-vx_mod[i])\n",
    "    delta_vy_mod.append(vy_mod[i+1]-vy_mod[i])\n",
    " \n",
    "for i in range (0,len(vx_mod),2) :\n",
    "    vit_mod=plt.quiver(x_mod[i], y_mod[i], vx_mod[i], vy_mod[i], angles='xy', scale_units='xy', scale=15, color='red', width=0.005)\n",
    "    \n",
    "plt.quiverkey(vit_mod,1,0.5,5,label='echelle 5 m/s', coordinates='data' )# permet d'afficher l'échelle des vecteurs\n",
    "\n",
    "for i in range (0,len(delta_vx_mod),2) :\n",
    "    dv_mod=plt.quiver(x_mod[i], y_mod[i], delta_vx_mod[i], delta_vy_mod[i], angles='xy', scale_units='xy', scale=2, color='green', width=0.005)\n",
    "\n",
    "plt.quiverkey(dv_mod,1,1,1,label='echelle 1 m/s', coordinates='data' )# permet d'afficher l'échelle des vecteurs\n",
    "    \n",
    "\n",
    "plt.show()"
   ]
  },
  {
   "cell_type": "markdown",
   "metadata": {},
   "source": [
    "# <div class=\"alert alert-success\" role=\"alert\">Autre méthode : Avec des fonctions pour le cas Mi+1/Mi-1"
   ]
  },
  {
   "cell_type": "code",
   "execution_count": null,
   "metadata": {},
   "outputs": [],
   "source": [
    "def vitesse(x, y, dt, i) :\n",
    "    vx = (x[i+1] - x[i-1])/(2*dt)\n",
    "    vy = (y[i+1] - y[i-1])/(2*dt)\n",
    "    v = sqrt(((x[i+1]-x[i-1])/(2*dt))**2 +((y[i+1]-y[i-1])/(2*dt))**2)\n",
    "    print(\"A la position\",i, \" la vitesse est de\",round(v,2), \"m/s\")\n",
    "    \n",
    "vitesse(x,y,dt,2)"
   ]
  },
  {
   "cell_type": "code",
   "execution_count": null,
   "metadata": {},
   "outputs": [],
   "source": [
    "for i in range (1,len(x)-1) :\n",
    "       vitesse(x,y,dt,i)"
   ]
  },
  {
   "cell_type": "code",
   "execution_count": null,
   "metadata": {},
   "outputs": [],
   "source": [
    "def vecteur_vitesse(x, y, dt, i) :\n",
    "    vx = (x[i+1] - x[i-1])/(2*dt)\n",
    "    vy = (y[i+1] - y[i-1])/(2*dt)\n",
    "    vit=plt.quiver(x[i], y[i], vx, vy,color='blue',scale=20)  # L'échelle de représentation est 1/10ème ,\n",
    "    vitesse = sqrt(((x[i+1]-x[i-1])/(2*dt))**2 +((y[i+1]-y[i-1])/(2*dt))**2)\n",
    "    print(\"A la position\",i, \" la vitesse est de\",round(vitesse,2), \"m/s\")\n",
    "    plt.quiverkey(vit,1,0.3,1,label='echelle 1 m/s', coordinates='data' )# permet d'afficher l'échelle des vecteurs\n",
    "    \n",
    "#Tracer le graphique\n",
    "plt.clf()                                   # Efface le graphique précédent\n",
    "plt.plot(x,y,\"r+\")\n",
    "vecteur_vitesse(x,y,dt,2)\n",
    "\n",
    "#Afficher le graphique\n",
    "plt.axis('equal')\n",
    "plt.show()"
   ]
  },
  {
   "cell_type": "code",
   "execution_count": null,
   "metadata": {},
   "outputs": [],
   "source": [
    "# Création des listes vx et vy(coordonnées du vecteur vitesse)\n",
    "vx=[]\n",
    "vy=[]\n",
    "for n in range(len(x)-1):\n",
    "    vx.append((x[n+1]-x[n-1])/(2*dt))\n",
    "    vy.append((y[n+1]-y[n-1])/(2*dt))\n",
    "\n",
    "# Création de la fonction deltav (variation de la vitesse)    \n",
    "def deltav(vx,vy,tau,i) :\n",
    "    dvx = (vx[i+1] - vx[i-1]) \n",
    "    dvy = (vy[i+1] - vy[i-1])  \n",
    "    delta=plt.quiver(x[i], y[i], dvx, dvy,color='green',scale=10)  \n",
    "    deltavitesse = sqrt(((vx[i+1]-vx[i-1]))**2 +((vy[i+1]-vy[i-1]))**2) # Calcul de la variation de vitesse au point i\n",
    "    print(\"A la position\",i, \" la variation de la vitesse est de\",round(deltavitesse,3), \"m/s\")\n",
    "    plt.quiverkey(delta,1,1,1,label='echelle 1 m/s', coordinates='data' )# permet d'afficher l'échelle des vecteurs\n",
    "\n",
    "plt.clf()\n",
    "plt.plot(x,y,'ro',ms=5.) \n",
    "plt.axis('equal')\n",
    "plt.grid(True) # Affichage de la grille\n",
    "plt.rcParams['figure.figsize'] = [7,7]\n",
    "\n",
    "vecteur_vitesse(x, y, dt,3) #tracé du vecteur vitesse au point M3\n",
    "vecteur_vitesse(x, y, dt,5) #tracé du vecteur vitesse au point M5\n",
    "\n",
    "deltav(vx,vy,dt,4) #tracé du vecteur variation de vitesse au point M4\n",
    "plt.show()"
   ]
  },
  {
   "cell_type": "code",
   "execution_count": null,
   "metadata": {},
   "outputs": [],
   "source": []
  }
 ],
 "metadata": {
  "celltoolbar": "Éditer les Méta-Données",
  "kernelspec": {
   "display_name": "Python 3",
   "language": "python",
   "name": "python3"
  },
  "language_info": {
   "codemirror_mode": {
    "name": "ipython",
    "version": 3
   },
   "file_extension": ".py",
   "mimetype": "text/x-python",
   "name": "python",
   "nbconvert_exporter": "python",
   "pygments_lexer": "ipython3",
   "version": "3.7.1"
  }
 },
 "nbformat": 4,
 "nbformat_minor": 2
}
